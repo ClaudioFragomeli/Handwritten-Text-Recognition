{
 "cells": [
  {
   "cell_type": "code",
   "execution_count": 1,
   "metadata": {},
   "outputs": [
    {
     "name": "stderr",
     "output_type": "stream",
     "text": [
      "Using TensorFlow backend.\n"
     ]
    }
   ],
   "source": [
    "import numpy as np\n",
    "import cv2\n",
    "import os\n",
    "import pandas as pd\n",
    "import string\n",
    "import matplotlib.pyplot as plt\n",
    "\n",
    "from keras.preprocessing.sequence import pad_sequences\n",
    "\n",
    "from keras.layers import Dense, LSTM, Reshape, BatchNormalization, Input, Conv2D, MaxPool2D, Lambda, Bidirectional\n",
    "from keras.models import Model\n",
    "from keras.activations import relu, sigmoid, softmax\n",
    "import keras.backend as K\n",
    "from keras.utils import to_categorical\n",
    "from keras.callbacks import ModelCheckpoint\n",
    "from keras_tqdm import TQDMNotebookCallback\n",
    "\n",
    "from sklearn.model_selection import train_test_split\n",
    "from sklearn.preprocessing import MinMaxScaler"
   ]
  },
  {
   "cell_type": "markdown",
   "metadata": {},
   "source": [
    "## Tf GPU"
   ]
  },
  {
   "cell_type": "code",
   "execution_count": 2,
   "metadata": {},
   "outputs": [],
   "source": [
    "import tensorflow as tf\n",
    "\n",
    "#ignore warnings in the output\n",
    "tf.compat.v1.logging.set_verbosity(tf.compat.v1.logging.ERROR)"
   ]
  },
  {
   "cell_type": "code",
   "execution_count": 3,
   "metadata": {},
   "outputs": [
    {
     "name": "stdout",
     "output_type": "stream",
     "text": [
      "[name: \"/device:CPU:0\"\n",
      "device_type: \"CPU\"\n",
      "memory_limit: 268435456\n",
      "locality {\n",
      "}\n",
      "incarnation: 5458791601894352624\n",
      ", name: \"/device:GPU:0\"\n",
      "device_type: \"GPU\"\n",
      "memory_limit: 2204421324\n",
      "locality {\n",
      "  bus_id: 1\n",
      "  links {\n",
      "  }\n",
      "}\n",
      "incarnation: 3946277847724316263\n",
      "physical_device_desc: \"device: 0, name: GeForce GTX 1060 3GB, pci bus id: 0000:02:00.0, compute capability: 6.1\"\n",
      "]\n",
      "Device mapping:\n",
      "/job:localhost/replica:0/task:0/device:GPU:0 -> device: 0, name: GeForce GTX 1060 3GB, pci bus id: 0000:02:00.0, compute capability: 6.1\n",
      "\n"
     ]
    }
   ],
   "source": [
    "from tensorflow.python.client import device_lib\n",
    "\n",
    "# Check all available devices if GPU is available\n",
    "print(device_lib.list_local_devices())\n",
    "sess = tf.compat.v1.Session(config=tf.compat.v1.ConfigProto(log_device_placement=True))"
   ]
  },
  {
   "cell_type": "code",
   "execution_count": 4,
   "metadata": {},
   "outputs": [
    {
     "data": {
      "text/plain": [
       "[PhysicalDevice(name='/physical_device:GPU:0', device_type='GPU')]"
      ]
     },
     "execution_count": 4,
     "metadata": {},
     "output_type": "execute_result"
    }
   ],
   "source": [
    "tf.config.experimental.list_physical_devices('GPU')"
   ]
  },
  {
   "cell_type": "code",
   "execution_count": 5,
   "metadata": {},
   "outputs": [
    {
     "data": {
      "text/plain": [
       "'a01-000u-00-00 ok 154 408 768 27 51 AT A'"
      ]
     },
     "execution_count": 5,
     "metadata": {},
     "output_type": "execute_result"
    }
   ],
   "source": [
    "with open('parser/words.txt') as f:\n",
    "    contents = f.readlines()\n",
    "\n",
    "lines = [line.strip() for line in contents] \n",
    "lines[0]"
   ]
  },
  {
   "cell_type": "markdown",
   "metadata": {},
   "source": [
    "## Preprocess Data\n",
    "Data: [IAM Dataset](http://www.fki.inf.unibe.ch/databases/iam-handwriting-database/download-the-iam-handwriting-database)\n",
    "\n",
    "Used in this project: [words.tgz](http://www.fki.inf.unibe.ch/DBs/iamDB/data/words/)"
   ]
  },
  {
   "cell_type": "code",
   "execution_count": 6,
   "metadata": {},
   "outputs": [
    {
     "name": "stdout",
     "output_type": "stream",
     "text": [
      "!\"#&'()*+,-./0123456789:;?ABCDEFGHIJKLMNOPQRSTUVWXYZabcdefghijklmnopqrstuvwxyz 78\n"
     ]
    }
   ],
   "source": [
    "max_label_len = 0\n",
    "\n",
    "char_list = \"!\\\"#&'()*+,-./0123456789:;?ABCDEFGHIJKLMNOPQRSTUVWXYZabcdefghijklmnopqrstuvwxyz\" \n",
    "\n",
    "# string.ascii_letters + string.digits (Chars & Digits)\n",
    "# or \n",
    "# \"80!\\\"#&'()*+,-./0123456789:;?ABCDEFGHIJKLMNOPQRSTUVWXYZabcdefghijklmnopqrstuvwxyz\"\n",
    "\n",
    "print(char_list, len(char_list))\n",
    "\n",
    "def encode_to_labels(txt):\n",
    "    # encoding each output word into digits\n",
    "    dig_lst = []\n",
    "    for index, chara in enumerate(txt):\n",
    "        dig_lst.append(char_list.index(chara))\n",
    "        \n",
    "    return dig_lst"
   ]
  },
  {
   "cell_type": "code",
   "execution_count": 7,
   "metadata": {},
   "outputs": [],
   "source": [
    "images = []\n",
    "labels = []\n",
    "\n",
    "RECORDS_COUNT = 10000"
   ]
  },
  {
   "cell_type": "code",
   "execution_count": 8,
   "metadata": {},
   "outputs": [],
   "source": [
    "train_images = []\n",
    "train_labels = []\n",
    "train_input_length = []\n",
    "train_label_length = []\n",
    "train_original_text = []\n",
    "\n",
    "valid_images = []\n",
    "valid_labels = []\n",
    "valid_input_length = []\n",
    "valid_label_length = []\n",
    "valid_original_text = []\n",
    "\n",
    "inputs_length = []\n",
    "labels_length = []"
   ]
  },
  {
   "cell_type": "code",
   "execution_count": 9,
   "metadata": {},
   "outputs": [],
   "source": [
    "def process_image(img):\n",
    "    \"\"\"\n",
    "    Converts image to shape (32, 128, 1) & normalize\n",
    "    \"\"\"\n",
    "    w, h = img.shape\n",
    "    \n",
    "#     _, img = cv2.threshold(img, \n",
    "#                            128, \n",
    "#                            255, \n",
    "#                            cv2.THRESH_BINARY | cv2.THRESH_OTSU)\n",
    "    \n",
    "    # Aspect Ratio Calculation\n",
    "    new_w = 32\n",
    "    new_h = int(h * (new_w / w))\n",
    "    img = cv2.resize(img, (new_h, new_w))\n",
    "    w, h = img.shape\n",
    "    \n",
    "    img = img.astype('float32')\n",
    "    \n",
    "    # Converts each to (32, 128, 1)\n",
    "    if w < 32:\n",
    "        add_zeros = np.full((32-w, h), 255)\n",
    "        img = np.concatenate((img, add_zeros))\n",
    "        w, h = img.shape\n",
    "    \n",
    "    if h < 128:\n",
    "        add_zeros = np.full((w, 128-h), 255)\n",
    "        img = np.concatenate((img, add_zeros), axis=1)\n",
    "        w, h = img.shape\n",
    "        \n",
    "    if h > 128 or w > 32:\n",
    "        dim = (128,32)\n",
    "        img = cv2.resize(img, dim)\n",
    "    \n",
    "    img = cv2.subtract(255, img)\n",
    "    \n",
    "    img = np.expand_dims(img, axis=2)\n",
    "    \n",
    "    # Normalize \n",
    "    img = img / 255\n",
    "    \n",
    "    return img"
   ]
  },
  {
   "cell_type": "markdown",
   "metadata": {},
   "source": [
    "## Generate train & validation set"
   ]
  },
  {
   "cell_type": "code",
   "execution_count": 10,
   "metadata": {},
   "outputs": [],
   "source": [
    "for index, line in enumerate(lines):\n",
    "    splits = line.split(' ')\n",
    "    status = splits[1]\n",
    "    \n",
    "    if status == 'ok':\n",
    "        word_id = splits[0]\n",
    "        word = \"\".join(splits[8:])\n",
    "        \n",
    "        splits_id = word_id.split('-')\n",
    "        filepath = 'words/{}/{}-{}/{}.png'.format(splits_id[0], \n",
    "                                                  splits_id[0], \n",
    "                                                  splits_id[1], \n",
    "                                                  word_id)\n",
    "        \n",
    "        # process image\n",
    "        img = cv2.imread(filepath, cv2.IMREAD_GRAYSCALE)\n",
    "        try:\n",
    "            img = process_image(img)\n",
    "        except:\n",
    "            continue\n",
    "            \n",
    "        # process label\n",
    "        try:\n",
    "            label = encode_to_labels(word)\n",
    "        except:\n",
    "            continue\n",
    "        \n",
    "        if index % 10 == 0:\n",
    "            valid_images.append(img)\n",
    "            valid_labels.append(label)\n",
    "            valid_input_length.append(31)\n",
    "            valid_label_length.append(len(word))\n",
    "            valid_original_text.append(word)\n",
    "        else:\n",
    "            train_images.append(img)\n",
    "            train_labels.append(label)\n",
    "            train_input_length.append(31)\n",
    "            train_label_length.append(len(word))\n",
    "            train_original_text.append(word)\n",
    "        \n",
    "        if len(word) > max_label_len:\n",
    "            max_label_len = len(word)\n",
    "    \n",
    "    if index >= RECORDS_COUNT:\n",
    "        break"
   ]
  },
  {
   "cell_type": "code",
   "execution_count": 11,
   "metadata": {},
   "outputs": [],
   "source": [
    "# padded_label = pad_sequences(labels, \n",
    "#                              maxlen=max_label_len, \n",
    "#                              padding='post',\n",
    "#                              value=len(char_list))\n",
    "\n",
    "train_padded_label = pad_sequences(train_labels, \n",
    "                             maxlen=max_label_len, \n",
    "                             padding='post',\n",
    "                             value=len(char_list))\n",
    "\n",
    "valid_padded_label = pad_sequences(valid_labels, \n",
    "                             maxlen=max_label_len, \n",
    "                             padding='post',\n",
    "                             value=len(char_list))"
   ]
  },
  {
   "cell_type": "code",
   "execution_count": 12,
   "metadata": {},
   "outputs": [
    {
     "data": {
      "text/plain": [
       "((3914, 16), (437, 16))"
      ]
     },
     "execution_count": 12,
     "metadata": {},
     "output_type": "execute_result"
    }
   ],
   "source": [
    "train_padded_label.shape, valid_padded_label.shape"
   ]
  },
  {
   "cell_type": "markdown",
   "metadata": {},
   "source": [
    "## Converts to Numpy array"
   ]
  },
  {
   "cell_type": "code",
   "execution_count": 13,
   "metadata": {},
   "outputs": [],
   "source": [
    "# images = np.asarray(images)\n",
    "# inputs_length = np.asarray(inputs_length)\n",
    "# labels_length = np.asarray(labels_length)\n",
    "\n",
    "train_images = np.asarray(train_images)\n",
    "train_input_length = np.asarray(train_input_length)\n",
    "train_label_length = np.asarray(train_label_length)\n",
    "\n",
    "valid_images = np.asarray(valid_images)\n",
    "valid_input_length = np.asarray(valid_input_length)\n",
    "valid_label_length = np.asarray(valid_label_length)"
   ]
  },
  {
   "cell_type": "code",
   "execution_count": 14,
   "metadata": {},
   "outputs": [
    {
     "data": {
      "text/plain": [
       "(3914, 32, 128, 1)"
      ]
     },
     "execution_count": 14,
     "metadata": {},
     "output_type": "execute_result"
    }
   ],
   "source": [
    "train_images.shape"
   ]
  },
  {
   "cell_type": "markdown",
   "metadata": {},
   "source": [
    "## Build Model\n",
    "Convolutional Recurrent Neural Network "
   ]
  },
  {
   "cell_type": "code",
   "execution_count": 15,
   "metadata": {},
   "outputs": [],
   "source": [
    "# input with shape of height=32 and width=128 \n",
    "inputs = Input(shape=(32,128,1))\n",
    " \n",
    "# convolution layer with kernel size (3,3)\n",
    "conv_1 = Conv2D(64, (3,3), activation = 'relu', padding='same')(inputs)\n",
    "# poolig layer with kernel size (2,2)\n",
    "pool_1 = MaxPool2D(pool_size=(2, 2), strides=2)(conv_1)\n",
    " \n",
    "conv_2 = Conv2D(128, (3,3), activation = 'relu', padding='same')(pool_1)\n",
    "pool_2 = MaxPool2D(pool_size=(2, 2), strides=2)(conv_2)\n",
    " \n",
    "conv_3 = Conv2D(256, (3,3), activation = 'relu', padding='same')(pool_2)\n",
    " \n",
    "conv_4 = Conv2D(256, (3,3), activation = 'relu', padding='same')(conv_3)\n",
    "# poolig layer with kernel size (2,1)\n",
    "pool_4 = MaxPool2D(pool_size=(2, 1))(conv_4)\n",
    " \n",
    "conv_5 = Conv2D(512, (3,3), activation = 'relu', padding='same')(pool_4)\n",
    "# Batch normalization layer\n",
    "batch_norm_5 = BatchNormalization()(conv_5)\n",
    " \n",
    "conv_6 = Conv2D(512, (3,3), activation = 'relu', padding='same')(batch_norm_5)\n",
    "batch_norm_6 = BatchNormalization()(conv_6)\n",
    "pool_6 = MaxPool2D(pool_size=(2, 1))(batch_norm_6)\n",
    " \n",
    "conv_7 = Conv2D(512, (2,2), activation = 'relu')(pool_6)\n",
    " \n",
    "squeezed = Lambda(lambda x: K.squeeze(x, 1))(conv_7)\n",
    " \n",
    "# bidirectional LSTM layers with units=128\n",
    "blstm_1 = Bidirectional(LSTM(256, return_sequences=True, dropout = 0.2))(squeezed)\n",
    "blstm_2 = Bidirectional(LSTM(256, return_sequences=True, dropout = 0.2))(blstm_1)\n",
    " \n",
    "outputs = Dense(len(char_list)+1, activation = 'softmax')(blstm_2)\n",
    "\n",
    "# model to be used at test time\n",
    "act_model = Model(inputs, outputs)"
   ]
  },
  {
   "cell_type": "code",
   "execution_count": 16,
   "metadata": {},
   "outputs": [
    {
     "name": "stdout",
     "output_type": "stream",
     "text": [
      "Model: \"model_1\"\n",
      "_________________________________________________________________\n",
      "Layer (type)                 Output Shape              Param #   \n",
      "=================================================================\n",
      "input_1 (InputLayer)         (None, 32, 128, 1)        0         \n",
      "_________________________________________________________________\n",
      "conv2d_1 (Conv2D)            (None, 32, 128, 64)       640       \n",
      "_________________________________________________________________\n",
      "max_pooling2d_1 (MaxPooling2 (None, 16, 64, 64)        0         \n",
      "_________________________________________________________________\n",
      "conv2d_2 (Conv2D)            (None, 16, 64, 128)       73856     \n",
      "_________________________________________________________________\n",
      "max_pooling2d_2 (MaxPooling2 (None, 8, 32, 128)        0         \n",
      "_________________________________________________________________\n",
      "conv2d_3 (Conv2D)            (None, 8, 32, 256)        295168    \n",
      "_________________________________________________________________\n",
      "conv2d_4 (Conv2D)            (None, 8, 32, 256)        590080    \n",
      "_________________________________________________________________\n",
      "max_pooling2d_3 (MaxPooling2 (None, 4, 32, 256)        0         \n",
      "_________________________________________________________________\n",
      "conv2d_5 (Conv2D)            (None, 4, 32, 512)        1180160   \n",
      "_________________________________________________________________\n",
      "batch_normalization_1 (Batch (None, 4, 32, 512)        2048      \n",
      "_________________________________________________________________\n",
      "conv2d_6 (Conv2D)            (None, 4, 32, 512)        2359808   \n",
      "_________________________________________________________________\n",
      "batch_normalization_2 (Batch (None, 4, 32, 512)        2048      \n",
      "_________________________________________________________________\n",
      "max_pooling2d_4 (MaxPooling2 (None, 2, 32, 512)        0         \n",
      "_________________________________________________________________\n",
      "conv2d_7 (Conv2D)            (None, 1, 31, 512)        1049088   \n",
      "_________________________________________________________________\n",
      "lambda_1 (Lambda)            (None, 31, 512)           0         \n",
      "_________________________________________________________________\n",
      "bidirectional_1 (Bidirection (None, 31, 512)           1574912   \n",
      "_________________________________________________________________\n",
      "bidirectional_2 (Bidirection (None, 31, 512)           1574912   \n",
      "_________________________________________________________________\n",
      "dense_1 (Dense)              (None, 31, 79)            40527     \n",
      "=================================================================\n",
      "Total params: 8,743,247\n",
      "Trainable params: 8,741,199\n",
      "Non-trainable params: 2,048\n",
      "_________________________________________________________________\n"
     ]
    }
   ],
   "source": [
    "act_model.summary()"
   ]
  },
  {
   "cell_type": "code",
   "execution_count": 17,
   "metadata": {},
   "outputs": [],
   "source": [
    "the_labels = Input(name='the_labels', shape=[max_label_len], dtype='float32')\n",
    "input_length = Input(name='input_length', shape=[1], dtype='int64')\n",
    "label_length = Input(name='label_length', shape=[1], dtype='int64')\n",
    "\n",
    "def ctc_lambda_func(args):\n",
    "    y_pred, labels, input_length, label_length = args\n",
    "    \n",
    "    return K.ctc_batch_cost(labels, y_pred, input_length, label_length)\n",
    "\n",
    "loss_out = Lambda(ctc_lambda_func, output_shape=(1,), name='ctc')([outputs, the_labels, input_length, label_length])\n",
    "\n",
    "#model to be used at training time\n",
    "model = Model(inputs=[inputs, the_labels, input_length, label_length], outputs=loss_out)"
   ]
  },
  {
   "cell_type": "code",
   "execution_count": 18,
   "metadata": {},
   "outputs": [],
   "source": [
    "batch_size = 8\n",
    "epochs = 30\n",
    "optimizer_name = 'sgd'"
   ]
  },
  {
   "cell_type": "code",
   "execution_count": 19,
   "metadata": {},
   "outputs": [],
   "source": [
    "model.compile(loss={'ctc': lambda y_true, y_pred: y_pred}, optimizer = optimizer_name, metrics=['accuracy'])\n",
    "\n",
    "filepath=\"{}o-{}r-{}e-{}t-{}v.hdf5\".format(optimizer_name,\n",
    "                                          str(RECORDS_COUNT),\n",
    "                                          str(epochs),\n",
    "                                          str(train_images.shape[0]),\n",
    "                                          str(valid_images.shape[0]))\n",
    "\n",
    "checkpoint = ModelCheckpoint(filepath=filepath, monitor='val_loss', verbose=1, save_best_only=True, mode='auto')\n",
    "callbacks_list = [checkpoint]"
   ]
  },
  {
   "cell_type": "code",
   "execution_count": 20,
   "metadata": {},
   "outputs": [
    {
     "name": "stdout",
     "output_type": "stream",
     "text": [
      "Train on 3914 samples, validate on 437 samples\n",
      "Epoch 1/30\n",
      " - 67s - loss: 15.2227 - accuracy: 0.0146 - val_loss: 15.3065 - val_accuracy: 0.0412\n",
      "\n",
      "Epoch 00001: val_loss improved from inf to 15.30648, saving model to rmspropo-5000r-30e-3914t-437v.hdf5\n",
      "Epoch 2/30\n",
      " - 64s - loss: 12.6624 - accuracy: 0.0429 - val_loss: 13.7218 - val_accuracy: 0.0481\n",
      "\n",
      "Epoch 00002: val_loss improved from 15.30648 to 13.72175, saving model to rmspropo-5000r-30e-3914t-437v.hdf5\n",
      "Epoch 3/30\n",
      " - 63s - loss: 11.4910 - accuracy: 0.0554 - val_loss: 12.9872 - val_accuracy: 0.0458\n",
      "\n",
      "Epoch 00003: val_loss improved from 13.72175 to 12.98725, saving model to rmspropo-5000r-30e-3914t-437v.hdf5\n",
      "Epoch 4/30\n",
      " - 64s - loss: 10.6405 - accuracy: 0.0720 - val_loss: 11.2312 - val_accuracy: 0.0892\n",
      "\n",
      "Epoch 00004: val_loss improved from 12.98725 to 11.23125, saving model to rmspropo-5000r-30e-3914t-437v.hdf5\n",
      "Epoch 5/30\n",
      " - 64s - loss: 9.8760 - accuracy: 0.0830 - val_loss: 10.8620 - val_accuracy: 0.0526\n",
      "\n",
      "Epoch 00005: val_loss improved from 11.23125 to 10.86200, saving model to rmspropo-5000r-30e-3914t-437v.hdf5\n",
      "Epoch 6/30\n",
      " - 64s - loss: 9.1478 - accuracy: 0.1009 - val_loss: 10.3073 - val_accuracy: 0.0847\n",
      "\n",
      "Epoch 00006: val_loss improved from 10.86200 to 10.30726, saving model to rmspropo-5000r-30e-3914t-437v.hdf5\n",
      "Epoch 7/30\n",
      " - 64s - loss: 8.3759 - accuracy: 0.1239 - val_loss: 8.7825 - val_accuracy: 0.1304\n",
      "\n",
      "Epoch 00007: val_loss improved from 10.30726 to 8.78250, saving model to rmspropo-5000r-30e-3914t-437v.hdf5\n",
      "Epoch 8/30\n",
      " - 64s - loss: 7.8186 - accuracy: 0.1398 - val_loss: 8.6847 - val_accuracy: 0.1373\n",
      "\n",
      "Epoch 00008: val_loss improved from 8.78250 to 8.68473, saving model to rmspropo-5000r-30e-3914t-437v.hdf5\n",
      "Epoch 9/30\n",
      " - 63s - loss: 7.1600 - accuracy: 0.1633 - val_loss: 7.5556 - val_accuracy: 0.1876\n",
      "\n",
      "Epoch 00009: val_loss improved from 8.68473 to 7.55556, saving model to rmspropo-5000r-30e-3914t-437v.hdf5\n",
      "Epoch 10/30\n",
      " - 63s - loss: 6.6210 - accuracy: 0.1799 - val_loss: 7.7230 - val_accuracy: 0.1808\n",
      "\n",
      "Epoch 00010: val_loss did not improve from 7.55556\n",
      "Epoch 11/30\n",
      " - 63s - loss: 6.1756 - accuracy: 0.2021 - val_loss: 8.1863 - val_accuracy: 0.1098\n",
      "\n",
      "Epoch 00011: val_loss did not improve from 7.55556\n",
      "Epoch 12/30\n",
      " - 63s - loss: 5.8385 - accuracy: 0.2105 - val_loss: 6.9352 - val_accuracy: 0.2014\n",
      "\n",
      "Epoch 00012: val_loss improved from 7.55556 to 6.93518, saving model to rmspropo-5000r-30e-3914t-437v.hdf5\n",
      "Epoch 13/30\n",
      " - 63s - loss: 5.4792 - accuracy: 0.2238 - val_loss: 7.9670 - val_accuracy: 0.1648\n",
      "\n",
      "Epoch 00013: val_loss did not improve from 6.93518\n",
      "Epoch 14/30\n",
      " - 63s - loss: 5.1449 - accuracy: 0.2425 - val_loss: 6.5633 - val_accuracy: 0.2197\n",
      "\n",
      "Epoch 00014: val_loss improved from 6.93518 to 6.56334, saving model to rmspropo-5000r-30e-3914t-437v.hdf5\n",
      "Epoch 15/30\n",
      " - 63s - loss: 4.8743 - accuracy: 0.2557 - val_loss: 6.4701 - val_accuracy: 0.2151\n",
      "\n",
      "Epoch 00015: val_loss improved from 6.56334 to 6.47012, saving model to rmspropo-5000r-30e-3914t-437v.hdf5\n",
      "Epoch 16/30\n",
      " - 63s - loss: 4.6394 - accuracy: 0.2680 - val_loss: 6.5137 - val_accuracy: 0.2288\n",
      "\n",
      "Epoch 00016: val_loss did not improve from 6.47012\n",
      "Epoch 17/30\n",
      " - 64s - loss: 4.3471 - accuracy: 0.2826 - val_loss: 5.7695 - val_accuracy: 0.2586\n",
      "\n",
      "Epoch 00017: val_loss improved from 6.47012 to 5.76954, saving model to rmspropo-5000r-30e-3914t-437v.hdf5\n",
      "Epoch 18/30\n",
      " - 63s - loss: 4.1593 - accuracy: 0.2823 - val_loss: 5.6298 - val_accuracy: 0.2792\n",
      "\n",
      "Epoch 00018: val_loss improved from 5.76954 to 5.62983, saving model to rmspropo-5000r-30e-3914t-437v.hdf5\n",
      "Epoch 19/30\n",
      " - 63s - loss: 3.9193 - accuracy: 0.2938 - val_loss: 5.9107 - val_accuracy: 0.2632\n",
      "\n",
      "Epoch 00019: val_loss did not improve from 5.62983\n",
      "Epoch 20/30\n",
      " - 63s - loss: 3.6989 - accuracy: 0.3043 - val_loss: 5.7300 - val_accuracy: 0.2952\n",
      "\n",
      "Epoch 00020: val_loss did not improve from 5.62983\n",
      "Epoch 21/30\n",
      " - 65s - loss: 3.4725 - accuracy: 0.3237 - val_loss: 6.3218 - val_accuracy: 0.2700\n",
      "\n",
      "Epoch 00021: val_loss did not improve from 5.62983\n",
      "Epoch 22/30\n",
      " - 64s - loss: 3.3551 - accuracy: 0.3339 - val_loss: 5.9292 - val_accuracy: 0.2998\n",
      "\n",
      "Epoch 00022: val_loss did not improve from 5.62983\n",
      "Epoch 23/30\n",
      " - 64s - loss: 3.2666 - accuracy: 0.3365 - val_loss: 5.7097 - val_accuracy: 0.2746\n",
      "\n",
      "Epoch 00023: val_loss did not improve from 5.62983\n",
      "Epoch 24/30\n",
      " - 66s - loss: 3.0533 - accuracy: 0.3541 - val_loss: 5.3996 - val_accuracy: 0.3318\n",
      "\n",
      "Epoch 00024: val_loss improved from 5.62983 to 5.39957, saving model to rmspropo-5000r-30e-3914t-437v.hdf5\n",
      "Epoch 25/30\n",
      " - 64s - loss: 2.8701 - accuracy: 0.3758 - val_loss: 5.5413 - val_accuracy: 0.3181\n",
      "\n",
      "Epoch 00025: val_loss did not improve from 5.39957\n",
      "Epoch 26/30\n",
      " - 64s - loss: 2.7731 - accuracy: 0.3728 - val_loss: 5.4141 - val_accuracy: 0.3158\n",
      "\n",
      "Epoch 00026: val_loss did not improve from 5.39957\n",
      "Epoch 27/30\n",
      " - 64s - loss: 2.7162 - accuracy: 0.3832 - val_loss: 5.8492 - val_accuracy: 0.3089\n",
      "\n",
      "Epoch 00027: val_loss did not improve from 5.39957\n",
      "Epoch 28/30\n",
      " - 64s - loss: 2.5102 - accuracy: 0.3968 - val_loss: 6.2862 - val_accuracy: 0.2906\n",
      "\n",
      "Epoch 00028: val_loss did not improve from 5.39957\n",
      "Epoch 29/30\n",
      " - 64s - loss: 2.5952 - accuracy: 0.3861 - val_loss: 5.5754 - val_accuracy: 0.3295\n",
      "\n",
      "Epoch 00029: val_loss did not improve from 5.39957\n",
      "Epoch 30/30\n",
      " - 64s - loss: 2.4490 - accuracy: 0.4083 - val_loss: 5.9401 - val_accuracy: 0.2998\n",
      "\n",
      "Epoch 00030: val_loss did not improve from 5.39957\n"
     ]
    }
   ],
   "source": [
    "history = model.fit(x=[train_images, train_padded_label, train_input_length, train_label_length],\n",
    "                    y=np.zeros(len(train_images)),\n",
    "                    batch_size=batch_size, \n",
    "                    epochs=epochs, \n",
    "                    validation_data=([valid_images, valid_padded_label, valid_input_length, valid_label_length], [np.zeros(len(valid_images))]),\n",
    "                    verbose=2,\n",
    "                    callbacks=callbacks_list)"
   ]
  },
  {
   "cell_type": "markdown",
   "metadata": {},
   "source": [
    "## Test accuracy\n",
    "Using Jaro Distance & Ratio"
   ]
  },
  {
   "cell_type": "code",
   "execution_count": 22,
   "metadata": {},
   "outputs": [
    {
     "name": "stdout",
     "output_type": "stream",
     "text": [
      "jaro : 0.8291373788513374\n",
      "ratio: 0.7702063693047685\n"
     ]
    }
   ],
   "source": [
    "# load the saved best model weights\n",
    "act_model.load_weights(filepath)\n",
    "\n",
    "# predict outputs on validation images\n",
    "prediction = act_model.predict(valid_images)\n",
    " \n",
    "# use CTC decoder\n",
    "decoded = K.ctc_decode(prediction, \n",
    "                       input_length=np.ones(prediction.shape[0]) * prediction.shape[1],\n",
    "                       greedy=True)[0][0]\n",
    "out = K.get_value(decoded)\n",
    "\n",
    "import Levenshtein as lv\n",
    "\n",
    "total_jaro = 0\n",
    "total_rati = 0\n",
    "# see the results\n",
    "for i, x in enumerate(out):\n",
    "    letters=''\n",
    "    for p in x:\n",
    "        if int(p) != -1:\n",
    "            letters+=char_list[int(p)]\n",
    "    total_jaro+=lv.jaro(letters, valid_original_text[i])\n",
    "    total_rati+=lv.ratio(letters, valid_original_text[i])\n",
    "\n",
    "print('jaro :', total_jaro/len(out))\n",
    "print('ratio:', total_rati/len(out))"
   ]
  },
  {
   "cell_type": "markdown",
   "metadata": {},
   "source": [
    "## Train accuracy"
   ]
  },
  {
   "cell_type": "code",
   "execution_count": null,
   "metadata": {},
   "outputs": [],
   "source": [
    "# predict outputs on validation images\n",
    "prediction = act_model.predict(train_images[150:170])\n",
    " \n",
    "# use CTC decoder\n",
    "decoded = K.ctc_decode(prediction,   \n",
    "                       input_length=np.ones(prediction.shape[0]) * prediction.shape[1],\n",
    "                       greedy=True)[0][0]\n",
    "\n",
    "out = K.get_value(decoded)\n",
    "\n",
    "# see the results\n",
    "for i, x in enumerate(out):\n",
    "    print(\"original_text =  \", train_original_text[150+i])\n",
    "    print(\"predicted text = \", end = '')\n",
    "    for p in x:\n",
    "        if int(p) != -1:\n",
    "            print(char_list[int(p)], end = '')\n",
    "    plt.imshow(train_images[150+i].reshape(32,128), cmap=plt.cm.gray)\n",
    "    plt.show()\n",
    "    print('\\n')"
   ]
  },
  {
   "cell_type": "code",
   "execution_count": 24,
   "metadata": {},
   "outputs": [],
   "source": [
    "# plot accuracy and loss\n",
    "def plotgraph(epochs, acc, val_acc):\n",
    "    # Plot training & validation accuracy values\n",
    "    plt.plot(epochs, acc, 'b')\n",
    "    plt.plot(epochs, val_acc, 'r')\n",
    "    plt.title('Model accuracy')\n",
    "    plt.ylabel('Accuracy')\n",
    "    plt.xlabel('Epoch')\n",
    "    plt.legend(['Train', 'Val'], loc='upper left')\n",
    "    plt.show()"
   ]
  },
  {
   "cell_type": "code",
   "execution_count": 25,
   "metadata": {},
   "outputs": [],
   "source": [
    "acc = history.history['accuracy']\n",
    "val_acc = history.history['val_accuracy']\n",
    "loss = history.history['loss']\n",
    "val_loss = history.history['val_loss']\n",
    "epochs = range(1,len(loss)+1)"
   ]
  },
  {
   "cell_type": "code",
   "execution_count": 26,
   "metadata": {},
   "outputs": [
    {
     "data": {
      "image/png": "[encoded data removed]",
      "text/plain": [
       "<Figure size 432x288 with 1 Axes>"
      ]
     },
     "metadata": {
      "needs_background": "light"
     },
     "output_type": "display_data"
    }
   ],
   "source": [
    "plotgraph(epochs, loss, val_loss)"
   ]
  },
  {
   "cell_type": "code",
   "execution_count": 27,
   "metadata": {},
   "outputs": [
    {
     "data": {
      "image/png": "[encoded data removed]",
      "text/plain": [
       "<Figure size 432x288 with 1 Axes>"
      ]
     },
     "metadata": {
      "needs_background": "light"
     },
     "output_type": "display_data"
    }
   ],
   "source": [
    "plotgraph(epochs, acc, val_acc)"
   ]
  },
  {
   "cell_type": "code",
   "execution_count": 43,
   "metadata": {},
   "outputs": [
    {
     "data": {
      "text/plain": [
       "(3.0533257213306477, 0.35411343, 5.399572121469598, 0.33180779218673706)"
      ]
     },
     "execution_count": 43,
     "metadata": {},
     "output_type": "execute_result"
    }
   ],
   "source": [
    "# get best model index\n",
    "minimum_val_loss = np.min(history.history['val_loss'])\n",
    "best_model_index = np.where(history.history['val_loss'] == minimum_val_loss)[0][0]\n",
    "\n",
    "best_loss = str(history.history['loss'][best_model_index])\n",
    "best_acc = str(history.history['accuracy'][best_model_index])\n",
    "best_val_loss = str(history.history['val_loss'][best_model_index])\n",
    "best_val_acc = str(history.history['val_accuracy'][best_model_index])"
   ]
  },
  {
   "cell_type": "code",
   "execution_count": 31,
   "metadata": {},
   "outputs": [],
   "source": [
    "with open('history.txt', 'a') as f:\n",
    "    new_data = '{},{},{},{},{},{},{},{},{},{}\\n'.format(filepath, \n",
    "                                                      optimizer_name, \n",
    "                                                      str(RECORDS_COUNT), \n",
    "                                                      str(epochs), \n",
    "                                                      str(train_images.shape[0]),\n",
    "                                                      str(valid_images.shape[0]), \n",
    "                                                      best_loss, \n",
    "                                                      best_acc, \n",
    "                                                      best_val_loss, \n",
    "                                                      best_val_acc)\n",
    "    f.write(new_data)"
   ]
  },
  {
   "cell_type": "code",
   "execution_count": null,
   "metadata": {},
   "outputs": [],
   "source": []
  }
 ],
 "metadata": {
  "kernelspec": {
   "display_name": "Python 3",
   "language": "python",
   "name": "python3"
  },
  "language_info": {
   "codemirror_mode": {
    "name": "ipython",
    "version": 3
   },
   "file_extension": ".py",
   "mimetype": "text/x-python",
   "name": "python",
   "nbconvert_exporter": "python",
   "pygments_lexer": "ipython3",
   "version": "3.6.7"
  }
 },
 "nbformat": 4,
 "nbformat_minor": 2
}
